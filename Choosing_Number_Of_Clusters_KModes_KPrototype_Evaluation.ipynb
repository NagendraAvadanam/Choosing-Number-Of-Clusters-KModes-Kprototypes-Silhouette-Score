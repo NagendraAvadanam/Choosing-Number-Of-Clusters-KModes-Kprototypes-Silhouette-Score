{
 "cells": [
  {
   "cell_type": "code",
   "execution_count": 1,
   "id": "9fc572ed",
   "metadata": {},
   "outputs": [],
   "source": [
    "import pandas as pd, numpy as np\n",
    "import matplotlib.pyplot as plt, seaborn as sns"
   ]
  },
  {
   "cell_type": "code",
   "execution_count": 2,
   "id": "bbf22315",
   "metadata": {},
   "outputs": [
    {
     "data": {
      "text/html": [
       "<div>\n",
       "<style scoped>\n",
       "    .dataframe tbody tr th:only-of-type {\n",
       "        vertical-align: middle;\n",
       "    }\n",
       "\n",
       "    .dataframe tbody tr th {\n",
       "        vertical-align: top;\n",
       "    }\n",
       "\n",
       "    .dataframe thead th {\n",
       "        text-align: right;\n",
       "    }\n",
       "</style>\n",
       "<table border=\"1\" class=\"dataframe\">\n",
       "  <thead>\n",
       "    <tr style=\"text-align: right;\">\n",
       "      <th></th>\n",
       "      <th>CustomerID</th>\n",
       "      <th>Gender</th>\n",
       "      <th>Age</th>\n",
       "      <th>Annual Income (k$)</th>\n",
       "      <th>Spending Score (1-100)</th>\n",
       "    </tr>\n",
       "  </thead>\n",
       "  <tbody>\n",
       "    <tr>\n",
       "      <th>0</th>\n",
       "      <td>1</td>\n",
       "      <td>Male</td>\n",
       "      <td>19</td>\n",
       "      <td>15</td>\n",
       "      <td>39</td>\n",
       "    </tr>\n",
       "    <tr>\n",
       "      <th>1</th>\n",
       "      <td>2</td>\n",
       "      <td>Male</td>\n",
       "      <td>21</td>\n",
       "      <td>15</td>\n",
       "      <td>81</td>\n",
       "    </tr>\n",
       "    <tr>\n",
       "      <th>2</th>\n",
       "      <td>3</td>\n",
       "      <td>Female</td>\n",
       "      <td>20</td>\n",
       "      <td>16</td>\n",
       "      <td>6</td>\n",
       "    </tr>\n",
       "    <tr>\n",
       "      <th>3</th>\n",
       "      <td>4</td>\n",
       "      <td>Female</td>\n",
       "      <td>23</td>\n",
       "      <td>16</td>\n",
       "      <td>77</td>\n",
       "    </tr>\n",
       "    <tr>\n",
       "      <th>4</th>\n",
       "      <td>5</td>\n",
       "      <td>Female</td>\n",
       "      <td>31</td>\n",
       "      <td>17</td>\n",
       "      <td>40</td>\n",
       "    </tr>\n",
       "  </tbody>\n",
       "</table>\n",
       "</div>"
      ],
      "text/plain": [
       "   CustomerID  Gender  Age  Annual Income (k$)  Spending Score (1-100)\n",
       "0           1    Male   19                  15                      39\n",
       "1           2    Male   21                  15                      81\n",
       "2           3  Female   20                  16                       6\n",
       "3           4  Female   23                  16                      77\n",
       "4           5  Female   31                  17                      40"
      ]
     },
     "execution_count": 2,
     "metadata": {},
     "output_type": "execute_result"
    }
   ],
   "source": [
    "df=pd.read_csv(\"Mall_Customers.csv\")\n",
    "df.head()"
   ]
  },
  {
   "cell_type": "code",
   "execution_count": 3,
   "id": "97402a9c",
   "metadata": {},
   "outputs": [],
   "source": [
    "df.rename({'Annual Income (k$)': 'Income',\n",
    "          'Spending Score (1-100)':'Spend_Score'}, axis=1,inplace=True)"
   ]
  },
  {
   "cell_type": "code",
   "execution_count": 4,
   "id": "195a2330",
   "metadata": {},
   "outputs": [
    {
     "data": {
      "image/png": "[encoded data removed]",
      "text/plain": [
       "<Figure size 432x288 with 1 Axes>"
      ]
     },
     "metadata": {
      "needs_background": "light"
     },
     "output_type": "display_data"
    }
   ],
   "source": [
    "df.plot.scatter(x='Income', y='Spend_Score', color='gray')\n",
    "plt.show()"
   ]
  },
  {
   "cell_type": "markdown",
   "id": "52ced3fa",
   "metadata": {},
   "source": [
    "### Scaling the attributes"
   ]
  },
  {
   "cell_type": "code",
   "execution_count": 5,
   "id": "25007890",
   "metadata": {},
   "outputs": [],
   "source": [
    "mall_scaled = df.copy()\n",
    "cols_to_scale = ['Age', 'Income', 'Spend_Score']\n",
    "\n",
    "from sklearn.preprocessing import StandardScaler\n",
    "scaler = StandardScaler()\n",
    "\n",
    "mall_scaled[cols_to_scale] = scaler.fit_transform(mall_scaled[cols_to_scale])"
   ]
  },
  {
   "cell_type": "code",
   "execution_count": 6,
   "id": "557360f7",
   "metadata": {},
   "outputs": [
    {
     "data": {
      "text/html": [
       "<div>\n",
       "<style scoped>\n",
       "    .dataframe tbody tr th:only-of-type {\n",
       "        vertical-align: middle;\n",
       "    }\n",
       "\n",
       "    .dataframe tbody tr th {\n",
       "        vertical-align: top;\n",
       "    }\n",
       "\n",
       "    .dataframe thead th {\n",
       "        text-align: right;\n",
       "    }\n",
       "</style>\n",
       "<table border=\"1\" class=\"dataframe\">\n",
       "  <thead>\n",
       "    <tr style=\"text-align: right;\">\n",
       "      <th></th>\n",
       "      <th>Age</th>\n",
       "      <th>Income</th>\n",
       "      <th>Spend_Score</th>\n",
       "    </tr>\n",
       "  </thead>\n",
       "  <tbody>\n",
       "    <tr>\n",
       "      <th>count</th>\n",
       "      <td>2.000000e+02</td>\n",
       "      <td>2.000000e+02</td>\n",
       "      <td>2.000000e+02</td>\n",
       "    </tr>\n",
       "    <tr>\n",
       "      <th>mean</th>\n",
       "      <td>-1.021405e-16</td>\n",
       "      <td>-2.131628e-16</td>\n",
       "      <td>-1.465494e-16</td>\n",
       "    </tr>\n",
       "    <tr>\n",
       "      <th>std</th>\n",
       "      <td>1.002509e+00</td>\n",
       "      <td>1.002509e+00</td>\n",
       "      <td>1.002509e+00</td>\n",
       "    </tr>\n",
       "    <tr>\n",
       "      <th>min</th>\n",
       "      <td>-1.496335e+00</td>\n",
       "      <td>-1.738999e+00</td>\n",
       "      <td>-1.910021e+00</td>\n",
       "    </tr>\n",
       "    <tr>\n",
       "      <th>25%</th>\n",
       "      <td>-7.248436e-01</td>\n",
       "      <td>-7.275093e-01</td>\n",
       "      <td>-5.997931e-01</td>\n",
       "    </tr>\n",
       "    <tr>\n",
       "      <th>50%</th>\n",
       "      <td>-2.045351e-01</td>\n",
       "      <td>3.587926e-02</td>\n",
       "      <td>-7.764312e-03</td>\n",
       "    </tr>\n",
       "    <tr>\n",
       "      <th>75%</th>\n",
       "      <td>7.284319e-01</td>\n",
       "      <td>6.656748e-01</td>\n",
       "      <td>8.851316e-01</td>\n",
       "    </tr>\n",
       "    <tr>\n",
       "      <th>max</th>\n",
       "      <td>2.235532e+00</td>\n",
       "      <td>2.917671e+00</td>\n",
       "      <td>1.894492e+00</td>\n",
       "    </tr>\n",
       "  </tbody>\n",
       "</table>\n",
       "</div>"
      ],
      "text/plain": [
       "                Age        Income   Spend_Score\n",
       "count  2.000000e+02  2.000000e+02  2.000000e+02\n",
       "mean  -1.021405e-16 -2.131628e-16 -1.465494e-16\n",
       "std    1.002509e+00  1.002509e+00  1.002509e+00\n",
       "min   -1.496335e+00 -1.738999e+00 -1.910021e+00\n",
       "25%   -7.248436e-01 -7.275093e-01 -5.997931e-01\n",
       "50%   -2.045351e-01  3.587926e-02 -7.764312e-03\n",
       "75%    7.284319e-01  6.656748e-01  8.851316e-01\n",
       "max    2.235532e+00  2.917671e+00  1.894492e+00"
      ]
     },
     "execution_count": 6,
     "metadata": {},
     "output_type": "execute_result"
    }
   ],
   "source": [
    "mall_scaled[cols_to_scale].describe()"
   ]
  },
  {
   "cell_type": "markdown",
   "id": "7afb363b",
   "metadata": {},
   "source": [
    "## Choosing the Number of Clusters\n",
    "\n",
    "**1) Choosing the Number of Clusters Based on Visual Inspection**\n",
    "\n",
    "Choosing the number of clusters based on visual inspection is often appealing \n",
    "because it is a decision based on looking at what is happening with the data most \n",
    "directly. People are usually quite good at looking at how much different clusters \n",
    "overlap and deciding whether a given number of clusters leads to too much overlap. \n",
    "This is not a quantitative method; however, as it leaves a lot to subjectivity and \n",
    "individual judgment, for many simple problems, it is a great way to decide how many \n",
    "clusters to use.\n",
    "\n",
    "**2) The Elbow Method with Sum of Squared Errors (inertia)**\n",
    "\n",
    "Often, it is difficult to tell by visualization alone how many clusters should be used \n",
    "to solve a particular problem. Different people may disagree about the number \n",
    "of clusters to use, and there may not be a clear, unanimous answer. With higher \n",
    "dimensional data, there is an additional issue: dimensionality-reduction techniques \n",
    "are not perfect. They attempt to take all the information in multiple dimensions \n",
    "and reduce it to only two. In some cases, this can work well, but as the number of \n",
    "dimensions increases, the data becomes more complex, and these visual methods \n",
    "quickly reach their limitations. When this happens, it's not easy to determine through \n",
    "visual inspection what the right number of clusters to use is. In these cases, it's often \n",
    "better to reach for a more quantitative measure. One such classic measure is to look \n",
    "for an elbow in a plot of the sum of squared errors, also called an Inertia Plot.\n",
    "\n",
    "The sum of squared errors (SSE) is the sum of the \"errors\" (the difference between \n",
    "a data point and the centroid of its assigned cluster) for all data points, squared. \n",
    "Another term for it is inertia. The tighter the clusters, the closer the constituent points \n",
    "to their respective clusters, and the lower the SSE/inertia. The sum of squared errors \n",
    "for the model can be calculated using the following equation:\n",
    "Figure 4.5: Equation for calculating the sum of squared errors \n",
    "of data points in a dataset\n",
    "Here, μk\n",
    " is the location of the centroid of cluster k, and each xi\n",
    " is a data point assigned \n",
    "to cluster k. When all the entities are treated as a single cluster, this SSE value is at \n",
    "its maximum for the dataset. As we increase k, we should expect the sum of squared \n",
    "errors to decrease since there are more centroids. In the extreme case, when each \n",
    "point is a cluster, the SSE/inertia value is 0, as each point is the centroid for its own \n",
    "cluster. In scikit-learn, you will use the 'inertia_' attribute that is available after \n",
    "fitting a model."
   ]
  },
  {
   "cell_type": "markdown",
   "id": "ed0b385e",
   "metadata": {},
   "source": [
    "### Choosing the Number of Clusters Based on Visual Inspection"
   ]
  },
  {
   "cell_type": "code",
   "execution_count": 7,
   "id": "0e8fd0e0",
   "metadata": {},
   "outputs": [],
   "source": [
    "from sklearn.cluster import KMeans\n",
    "cluster_cols = ['Income', 'Spend_Score']\n",
    "markers = ['x', '*', '.', '|', '_', '1', '2']"
   ]
  },
  {
   "cell_type": "code",
   "execution_count": 8,
   "id": "5a31ef1a",
   "metadata": {},
   "outputs": [
    {
     "data": {
      "image/png": "[encoded data removed]",
      "text/plain": [
       "<Figure size 1296x864 with 6 Axes>"
      ]
     },
     "metadata": {
      "needs_background": "light"
     },
     "output_type": "display_data"
    }
   ],
   "source": [
    "plt.figure(figsize=[18,12])\n",
    "for n in range(2,8):\n",
    "    model = KMeans(n_clusters=n, random_state=42)\n",
    "    mall_scaled['Cluster']= model.fit_predict(mall_scaled[cluster_cols])\n",
    "    \n",
    "\n",
    "    plt.subplot(2,3, n-1)\n",
    "    for clust in range(n):\n",
    "        temp = mall_scaled[mall_scaled.Cluster == clust]\n",
    "        plt.scatter(temp.Income, temp.Spend_Score, \\\n",
    "                marker=markers[clust], \\\n",
    "                label=\"Cluster \"+str(clust), color='gray')\n",
    "        plt.title(\"N clusters: \"+str(n))\n",
    "        plt.xlabel('Income')\n",
    "        plt.ylabel('Spend_score')\n",
    "        plt.legend()\n",
    "\n",
    "plt.show()"
   ]
  },
  {
   "cell_type": "markdown",
   "id": "04f75946",
   "metadata": {},
   "source": [
    "### The Elbow Method with Sum of Squared Errors (inertia)"
   ]
  },
  {
   "cell_type": "code",
   "execution_count": 9,
   "id": "d7e8ed7a",
   "metadata": {},
   "outputs": [
    {
     "data": {
      "text/plain": [
       "KMeans(n_clusters=3, random_state=42)"
      ]
     },
     "execution_count": 9,
     "metadata": {},
     "output_type": "execute_result"
    }
   ],
   "source": [
    "K = 3\n",
    "model = KMeans(n_clusters=K, random_state=42)\n",
    "model.fit(mall_scaled[cluster_cols])"
   ]
  },
  {
   "cell_type": "code",
   "execution_count": 10,
   "id": "1f60315c",
   "metadata": {},
   "outputs": [
    {
     "name": "stdout",
     "output_type": "stream",
     "text": [
      "157.70400815035939\n",
      "You will see that inertia is 157.70. Note that this number by itself does not mean much to us. We are more interested in how this number changes with the number of clusters\n"
     ]
    }
   ],
   "source": [
    "print(model.inertia_)\n",
    "\n",
    "print(\"You will see that inertia is 157.70. Note that this number by itself does not mean much to us. We are more interested in how this number changes with the number of clusters\")"
   ]
  },
  {
   "cell_type": "code",
   "execution_count": 11,
   "id": "17cbf11f",
   "metadata": {},
   "outputs": [],
   "source": [
    "X = mall_scaled[cluster_cols]\n",
    "inertia_scores = []\n",
    "for K in range(2,11):\n",
    "    inertia = KMeans(n_clusters=K, random_state=42).fit(X).inertia_\n",
    "    inertia_scores.append(inertia)"
   ]
  },
  {
   "cell_type": "code",
   "execution_count": 12,
   "id": "4b5cf363",
   "metadata": {},
   "outputs": [
    {
     "data": {
      "image/png": "[encoded data removed]",
      "text/plain": [
       "<Figure size 504x360 with 1 Axes>"
      ]
     },
     "metadata": {
      "needs_background": "light"
     },
     "output_type": "display_data"
    },
    {
     "name": "stdout",
     "output_type": "stream",
     "text": [
      "By observing the preceding plot, you will notice that there is an elbow in the plot at K=5. So, we take five as the optimal number of clusters, the best value of K for the KMeans algorithm. Before that, every additional cluster gives us big gains in reducing the sum of squared errors. Beyond five, we seem to be getting extremely low returns.\n"
     ]
    }
   ],
   "source": [
    "plt.figure(figsize=[7,5])\n",
    "plt.plot(range(2,11), inertia_scores, color='gray')\n",
    "plt.title(\"SSE/Inertia vs. number of clusters\")\n",
    "plt.xlabel(\"Number of clusters: K\")\n",
    "plt.ylabel('SSE/Inertia')\n",
    "plt.show()\n",
    "\n",
    "\n",
    "print(\"By observing the preceding plot, you will notice that there is an elbow in the plot at K=5. So, we take five as the optimal number of clusters, the best value of K for the KMeans algorithm. Before that, every additional cluster gives us big gains in reducing the sum of squared errors. Beyond five, we seem to be getting extremely low returns.\")"
   ]
  },
  {
   "cell_type": "markdown",
   "id": "3d9a2427",
   "metadata": {},
   "source": [
    "## More CLustering Techniques\n",
    "\n",
    "**Mean-shift clustering** is an interesting algorithm in contrast to the k-means \n",
    "algorithm because unlike k-means, it does not require you to specify the number of \n",
    "clusters. The intuition of its working is rather simple – it works by starting at each \n",
    "data point and shifting the data points (assigning them to clusters) toward the area \n",
    "of greatest density – that is, towards a natural cluster centroid. When all the data \n",
    "points have found their local density peak, the algorithm is complete. This tends to \n",
    "be computationally expensive, so this method does not scale well to large datasets \n",
    "(k-means clustering, on the other hand, scales very well).\n",
    "\n",
    "While not needing to choose the number of clusters sounds great, there is another \n",
    "hyper-parameter that strongly influences the behavior of the algorithm - bandwidth. \n",
    "Also referred to as window size, bandwidth defines how far each data point will look \n",
    "when searching for a higher density area. As you can expect, a higher bandwidth \n",
    "would allow points to look farther and get linked to farther away clusters and can \n",
    "lead to fewer, looser, larger clusters. \n",
    "\n",
    "A common method (which we will use shortly) for determining the best bandwidth \n",
    "is to estimate it based on the distances between nearby points (using a quantile \n",
    "parameter which specifies the proportion of data points to look across), but this \n",
    "method requires you to choose a quantile that determines the proportion of points to \n",
    "look at. This is non-trivial. In practice, this ends up being a very similar problem to the \n",
    "problem of choosing a number of clusters where at some point you, the user, have to \n",
    "choose what hyperparameter to use.\n",
    "\n",
    "\n",
    "\n",
    "\n",
    "\n",
    "\n",
    "\n"
   ]
  },
  {
   "cell_type": "code",
   "execution_count": 13,
   "id": "9ed53e8e",
   "metadata": {},
   "outputs": [],
   "source": [
    "from sklearn.cluster import MeanShift, estimate_bandwidth\n",
    "bandwidth=0.9"
   ]
  },
  {
   "cell_type": "code",
   "execution_count": 14,
   "id": "7db34024",
   "metadata": {},
   "outputs": [],
   "source": [
    "ms=MeanShift(bandwidth=bandwidth, bin_seeding=True)\n",
    "ms.fit(mall_scaled[cluster_cols])\n",
    "\n",
    "mall_scaled['Cluster1'] = ms.predict(X)"
   ]
  },
  {
   "cell_type": "code",
   "execution_count": 15,
   "id": "87ea603a",
   "metadata": {},
   "outputs": [
    {
     "data": {
      "image/png": "[encoded data removed]",
      "text/plain": [
       "<Figure size 576x432 with 1 Axes>"
      ]
     },
     "metadata": {
      "needs_background": "light"
     },
     "output_type": "display_data"
    },
    {
     "name": "stdout",
     "output_type": "stream",
     "text": [
      "The model has found five unique clusters. They are very much aligned with the clusters you arrived at earlier using K-means where you specified 5 clusters. But notice that the clusters on the right have areas of very low density. The choice of bandwidth has led to such loose clusters. \n"
     ]
    }
   ],
   "source": [
    "markers = ['x', '*', '.', '|', '_', '1', '2']\n",
    "plt.figure(figsize=[8,6])\n",
    "for clust in range(mall_scaled.Cluster1.nunique()):\n",
    "    temp = mall_scaled[mall_scaled.Cluster1 == clust]\n",
    "    plt.scatter(temp.Income, temp.Spend_Score, \\\n",
    "                marker=markers[clust], \\\n",
    "                label=\"Cluster\"+str(clust), \\\n",
    "                color='gray')\n",
    "\n",
    "plt.xlabel(\"Income\")\n",
    "plt.ylabel(\"Spend_score\")\n",
    "plt.legend()\n",
    "plt.show()\n",
    "\n",
    "\n",
    "print(\"The model has found five unique clusters. They are very much aligned with the clusters you arrived at earlier using K-means where you specified 5 clusters. But notice that the clusters on the right have areas of very low density. The choice of bandwidth has led to such loose clusters. \")"
   ]
  },
  {
   "cell_type": "code",
   "execution_count": 16,
   "id": "ddba4155",
   "metadata": {},
   "outputs": [
    {
     "name": "stdout",
     "output_type": "stream",
     "text": [
      "Estimate the required bandwidth using the estimate_bandwidth method. \n",
      "Use the estimate_bandwidth function with a quantile value of 0.1 (an \n",
      "arbitrary choice) to estimate the best bandwidth to use.\n",
      "0.6487582521320147\n"
     ]
    }
   ],
   "source": [
    "print(\"\"\"Estimate the required bandwidth using the estimate_bandwidth method. \n",
    "Use the estimate_bandwidth function with a quantile value of 0.1 (an \n",
    "arbitrary choice) to estimate the best bandwidth to use.\"\"\") \n",
    "\n",
    "bandwidth = estimate_bandwidth(mall_scaled[cluster_cols], \\\n",
    "                               quantile=0.1)\n",
    "print(bandwidth)"
   ]
  },
  {
   "cell_type": "code",
   "execution_count": 17,
   "id": "496f462a",
   "metadata": {},
   "outputs": [
    {
     "data": {
      "text/plain": [
       "7"
      ]
     },
     "execution_count": 17,
     "metadata": {},
     "output_type": "execute_result"
    }
   ],
   "source": [
    "ms = MeanShift(bandwidth=bandwidth, bin_seeding=True)\n",
    "ms.fit(mall_scaled[cluster_cols])\n",
    "mall_scaled['Cluster']= ms.predict(mall_scaled[cluster_cols])\n",
    "mall_scaled.Cluster.nunique()"
   ]
  },
  {
   "cell_type": "code",
   "execution_count": 18,
   "id": "56def7d8",
   "metadata": {},
   "outputs": [
    {
     "data": {
      "image/png": "[encoded data removed]",
      "text/plain": [
       "<Figure size 576x432 with 1 Axes>"
      ]
     },
     "metadata": {
      "needs_background": "light"
     },
     "output_type": "display_data"
    }
   ],
   "source": [
    "plt.figure(figsize=[8,6])\n",
    "for clust in range(mall_scaled.Cluster.nunique()):\n",
    "    temp = mall_scaled[mall_scaled.Cluster == clust]\n",
    "    plt.scatter(temp.Income, temp.Spend_Score, \\\n",
    "                marker=markers[clust], \\\n",
    "                label=\"Cluster\"+str(clust), \\\n",
    "                color='gray')\n",
    "plt.xlabel(\"Income\")\n",
    "plt.ylabel(\"Spend_score\")\n",
    "plt.legend()\n",
    "plt.show()"
   ]
  },
  {
   "cell_type": "code",
   "execution_count": 19,
   "id": "07048b7a",
   "metadata": {},
   "outputs": [
    {
     "name": "stdout",
     "output_type": "stream",
     "text": [
      "0.8582301835333547\n"
     ]
    }
   ],
   "source": [
    "## Changint eh quantile to 0.15\n",
    "\n",
    "bandwidth = estimate_bandwidth(mall_scaled[cluster_cols], \\\n",
    "                               quantile=0.15)\n",
    "print(bandwidth)"
   ]
  },
  {
   "cell_type": "code",
   "execution_count": 20,
   "id": "45c9458d",
   "metadata": {},
   "outputs": [
    {
     "data": {
      "text/plain": [
       "5"
      ]
     },
     "execution_count": 20,
     "metadata": {},
     "output_type": "execute_result"
    }
   ],
   "source": [
    "ms = MeanShift(bandwidth=bandwidth, bin_seeding=True)\n",
    "ms.fit(mall_scaled[cluster_cols])\n",
    "mall_scaled['Cluster']= ms.predict(mall_scaled[cluster_cols])\n",
    "mall_scaled.Cluster.nunique()"
   ]
  },
  {
   "cell_type": "code",
   "execution_count": 21,
   "id": "c48b14c1",
   "metadata": {},
   "outputs": [
    {
     "data": {
      "image/png": "[encoded data removed]",
      "text/plain": [
       "<Figure size 576x432 with 1 Axes>"
      ]
     },
     "metadata": {
      "needs_background": "light"
     },
     "output_type": "display_data"
    },
    {
     "name": "stdout",
     "output_type": "stream",
     "text": [
      "In this exercise, you successfully used mean-shift clustering with varying parameters \n",
      "to make your understanding more concrete. When you used a quantile value of \n",
      "0.15, which means you looked at more points to estimate the bandwidth required, \n",
      "you ended up with a bandwidth of about 0.86 and obtained 5 clusters. When you \n",
      "used a quantile value of 0.1, though, the estimated bandwidth was about 0.65 and \n",
      "obtained 7 clusters. This demonstrates the impact of the bandwidth parameter, \n",
      "alternatively, the quantile parameter used to estimate the bandwidth.\n"
     ]
    }
   ],
   "source": [
    "plt.figure(figsize=[8,6])\n",
    "for clust in range(mall_scaled.Cluster.nunique()):\n",
    "    temp = mall_scaled[mall_scaled.Cluster == clust]\n",
    "    plt.scatter(temp.Income, temp.Spend_Score, \\\n",
    "                marker=markers[clust], \\\n",
    "                label=\"Cluster\"+str(clust), \\\n",
    "                color='gray')\n",
    "plt.xlabel(\"Income\")\n",
    "plt.ylabel(\"Spend_score\")\n",
    "plt.legend()\n",
    "plt.show()\n",
    "\n",
    "print(\"\"\"In this exercise, you successfully used mean-shift clustering with varying parameters \n",
    "to make your understanding more concrete. When you used a quantile value of \n",
    "0.15, which means you looked at more points to estimate the bandwidth required, \n",
    "you ended up with a bandwidth of about 0.86 and obtained 5 clusters. When you \n",
    "used a quantile value of 0.1, though, the estimated bandwidth was about 0.65 and \n",
    "obtained 7 clusters. This demonstrates the impact of the bandwidth parameter, \n",
    "alternatively, the quantile parameter used to estimate the bandwidth.\"\"\")"
   ]
  },
  {
   "cell_type": "markdown",
   "id": "c618076c",
   "metadata": {},
   "source": [
    "## Benefits and Drawbacks of the Mean-Shift Technique \n",
    "\n",
    "In the previous exercise, we saw that the mean-shift algorithm too had its own key \n",
    "hyper-parameters. This is again a choice to be made by the user. Why, then, bother \n",
    "with mean-shift clustering? To answer this let us understand the benefits and \n",
    "drawbacks of the mean-shift algorithm. \n",
    "Benefits of mean-shift algorithm\n",
    "1. We don't need to pre-specify the number of clusters.\n",
    "\n",
    "2. The single parameter, bandwidth, has a physical meaning and its effects are easy to interpret.\n",
    "\n",
    "3. It can identify complex-shaped clusters (k-means only gave spherical/globular clusters).\n",
    "\n",
    "4. Robust to outliers.\n",
    "\n",
    "Drawbacks of mean-shift algorithm\n",
    "\n",
    "1. Computationally expensive, doesn't scale well to large datasets.\n",
    "\n",
    "2. Does not work well with a high number of dimensions (leads to unstable clusters).\n",
    "\n",
    "3. No direct control over the number of clusters, which is problematic when we have business constraints on the number of clusters.\n",
    "\n",
    "We can see that the **mean-shift** algorithm is another powerful, density-based \n",
    "approach to clustering. While it has its own hyper-parameter and some issues with \n",
    "scalability, it does have its merits which can be extremely useful in certain situations. \n",
    "But both approaches we saw so far work only for quantitative data. In practice, we \n",
    "come across many situations that need us to work with non-numeric data. Let us \n",
    "now explore another technique for clustering, that helps us handle different types of \n",
    "data better.\n"
   ]
  },
  {
   "cell_type": "markdown",
   "id": "707506a9",
   "metadata": {},
   "source": [
    "## k-modes and k-prototypes Clustering\n",
    "\n",
    "\n",
    "k-means clustering is great when you are dealing exclusively with quantitative data. \n",
    "However, when you have categorical data (that is, data that can't be converted into \n",
    "numerical order, such as race, language, and country) with more than two categories, \n",
    "the representation of this data using numbers becomes a key consideration. In \n",
    "statistics, one common strategy for dealing with categorical data is to use dummy \n",
    "variables—the practice of creating a new **indicator** variable for each category - so \n",
    "that each of these dummy variables is a binary. When clustering, this can lead to \n",
    "complications, because if you have many different categories, you are adding many \n",
    "different dimensions for each categorical variable and the result will often not \n",
    "properly reflect the kinds of groupings you're looking for.\n",
    "\n",
    "\n",
    "To handle such situations, two related methods make dealing with categorical data \n",
    "more natural. **k-modes** is a clustering algorithm that uses the mode of a cluster rather \n",
    "than the mean, but otherwise performs just like the k-means algorithm. Like mean is \n",
    "a good measure for the typical/ central value for a continuous variable, 'mode' or the \n",
    "most commonly occurring category is the typical value for a categorical variable. The \n",
    "K-modes algorithm is a great choice for categorical data.\n",
    "\n",
    "**k-prototypes** clustering allows you to deal with cases where there is a mix of \n",
    "categorical and continuous variables. Instead of defining a centroid for each cluster \n",
    "like k-means or k-modes, k-prototypes clustering chooses a data point to be the \n",
    "prototype and uses that as if it is the centroid of the cluster, updating to a new data \n",
    "point closer to the center of all data points assigned to that cluster using the same \n",
    "process as k-means or k-modes\n",
    "\n"
   ]
  },
  {
   "cell_type": "code",
   "execution_count": 22,
   "id": "422399bb",
   "metadata": {},
   "outputs": [
    {
     "name": "stdout",
     "output_type": "stream",
     "text": [
      "An important feature for business is the education level of the customer and needs to \n",
      "be included in the segmentation. The values in the data are Primary, Secondary, \n",
      "and Tertiary. Since this is a categorical feature, K-means is not a suitable \n",
      "approach. You need to create customer segmentation with this data by applying \n",
      "k-prototype clustering to data that has a mix of categorical (education) and \n",
      "continuous (income) variables\n"
     ]
    }
   ],
   "source": [
    "bank0 = pd.read_csv(\"Bank_Personal_Loan_Modelling-2.csv\")\n",
    "\n",
    "\n",
    "\n",
    "print(\"\"\"An important feature for business is the education level of the customer and needs to \n",
    "be included in the segmentation. The values in the data are Primary, Secondary, \n",
    "and Tertiary. Since this is a categorical feature, K-means is not a suitable \n",
    "approach. You need to create customer segmentation with this data by applying \n",
    "k-prototype clustering to data that has a mix of categorical (education) and \n",
    "continuous (income) variables\"\"\")"
   ]
  },
  {
   "cell_type": "code",
   "execution_count": 23,
   "id": "5e6b30d4",
   "metadata": {},
   "outputs": [
    {
     "data": {
      "text/html": [
       "<div>\n",
       "<style scoped>\n",
       "    .dataframe tbody tr th:only-of-type {\n",
       "        vertical-align: middle;\n",
       "    }\n",
       "\n",
       "    .dataframe tbody tr th {\n",
       "        vertical-align: top;\n",
       "    }\n",
       "\n",
       "    .dataframe thead th {\n",
       "        text-align: right;\n",
       "    }\n",
       "</style>\n",
       "<table border=\"1\" class=\"dataframe\">\n",
       "  <thead>\n",
       "    <tr style=\"text-align: right;\">\n",
       "      <th></th>\n",
       "      <th>ID</th>\n",
       "      <th>Age</th>\n",
       "      <th>Experience</th>\n",
       "      <th>Income</th>\n",
       "      <th>ZIP Code</th>\n",
       "      <th>Family</th>\n",
       "      <th>CCAvg</th>\n",
       "      <th>Education</th>\n",
       "      <th>Mortgage</th>\n",
       "      <th>Personal Loan</th>\n",
       "      <th>Securities Account</th>\n",
       "      <th>CD Account</th>\n",
       "      <th>Online</th>\n",
       "      <th>CreditCard</th>\n",
       "    </tr>\n",
       "  </thead>\n",
       "  <tbody>\n",
       "    <tr>\n",
       "      <th>0</th>\n",
       "      <td>1</td>\n",
       "      <td>25</td>\n",
       "      <td>1</td>\n",
       "      <td>49</td>\n",
       "      <td>91107</td>\n",
       "      <td>4</td>\n",
       "      <td>1.6</td>\n",
       "      <td>Primary</td>\n",
       "      <td>0</td>\n",
       "      <td>0</td>\n",
       "      <td>1</td>\n",
       "      <td>0</td>\n",
       "      <td>0</td>\n",
       "      <td>0</td>\n",
       "    </tr>\n",
       "    <tr>\n",
       "      <th>1</th>\n",
       "      <td>2</td>\n",
       "      <td>45</td>\n",
       "      <td>19</td>\n",
       "      <td>34</td>\n",
       "      <td>90089</td>\n",
       "      <td>3</td>\n",
       "      <td>1.5</td>\n",
       "      <td>Primary</td>\n",
       "      <td>0</td>\n",
       "      <td>0</td>\n",
       "      <td>1</td>\n",
       "      <td>0</td>\n",
       "      <td>0</td>\n",
       "      <td>0</td>\n",
       "    </tr>\n",
       "    <tr>\n",
       "      <th>2</th>\n",
       "      <td>3</td>\n",
       "      <td>39</td>\n",
       "      <td>15</td>\n",
       "      <td>11</td>\n",
       "      <td>94720</td>\n",
       "      <td>1</td>\n",
       "      <td>1.0</td>\n",
       "      <td>Primary</td>\n",
       "      <td>0</td>\n",
       "      <td>0</td>\n",
       "      <td>0</td>\n",
       "      <td>0</td>\n",
       "      <td>0</td>\n",
       "      <td>0</td>\n",
       "    </tr>\n",
       "    <tr>\n",
       "      <th>3</th>\n",
       "      <td>4</td>\n",
       "      <td>35</td>\n",
       "      <td>9</td>\n",
       "      <td>100</td>\n",
       "      <td>94112</td>\n",
       "      <td>1</td>\n",
       "      <td>2.7</td>\n",
       "      <td>Secondary</td>\n",
       "      <td>0</td>\n",
       "      <td>0</td>\n",
       "      <td>0</td>\n",
       "      <td>0</td>\n",
       "      <td>0</td>\n",
       "      <td>0</td>\n",
       "    </tr>\n",
       "    <tr>\n",
       "      <th>4</th>\n",
       "      <td>5</td>\n",
       "      <td>35</td>\n",
       "      <td>8</td>\n",
       "      <td>45</td>\n",
       "      <td>91330</td>\n",
       "      <td>4</td>\n",
       "      <td>1.0</td>\n",
       "      <td>Secondary</td>\n",
       "      <td>0</td>\n",
       "      <td>0</td>\n",
       "      <td>0</td>\n",
       "      <td>0</td>\n",
       "      <td>0</td>\n",
       "      <td>1</td>\n",
       "    </tr>\n",
       "  </tbody>\n",
       "</table>\n",
       "</div>"
      ],
      "text/plain": [
       "   ID  Age  Experience  Income  ZIP Code  Family  CCAvg  Education  Mortgage  \\\n",
       "0   1   25           1      49     91107       4    1.6    Primary         0   \n",
       "1   2   45          19      34     90089       3    1.5    Primary         0   \n",
       "2   3   39          15      11     94720       1    1.0    Primary         0   \n",
       "3   4   35           9     100     94112       1    2.7  Secondary         0   \n",
       "4   5   35           8      45     91330       4    1.0  Secondary         0   \n",
       "\n",
       "   Personal Loan  Securities Account  CD Account  Online  CreditCard  \n",
       "0              0                   1           0       0           0  \n",
       "1              0                   1           0       0           0  \n",
       "2              0                   0           0       0           0  \n",
       "3              0                   0           0       0           0  \n",
       "4              0                   0           0       0           1  "
      ]
     },
     "execution_count": 23,
     "metadata": {},
     "output_type": "execute_result"
    }
   ],
   "source": [
    "bank0.head()"
   ]
  },
  {
   "cell_type": "code",
   "execution_count": 24,
   "id": "b79a201e",
   "metadata": {},
   "outputs": [],
   "source": [
    "from sklearn.preprocessing import StandardScaler\n",
    "scaler = StandardScaler()\n",
    "bank_scaled = bank0.copy()\n",
    "bank_scaled['Income'] = scaler.fit_transform(bank0[['Income']])"
   ]
  },
  {
   "cell_type": "code",
   "execution_count": 25,
   "id": "b46cfe13",
   "metadata": {},
   "outputs": [],
   "source": [
    "from kmodes.kprototypes import KPrototypes\n",
    "cluster_cols = ['Income', 'Education']\n",
    "\n",
    "kp = KPrototypes(n_clusters=3, random_state=42)\n",
    "\n",
    "bank_scaled['Cluster'] = kp.fit_predict(bank_scaled[cluster_cols],categorical=[1])"
   ]
  },
  {
   "cell_type": "code",
   "execution_count": 26,
   "id": "ec8bb892",
   "metadata": {},
   "outputs": [
    {
     "data": {
      "image/png": "[encoded data removed]",
      "text/plain": [
       "<Figure size 648x432 with 1 Axes>"
      ]
     },
     "metadata": {
      "needs_background": "light"
     },
     "output_type": "display_data"
    },
    {
     "name": "stdout",
     "output_type": "stream",
     "text": [
      "cluster 2 is dominated by customers with \n",
      "primary education. In cluster 1, the number of primary educated customers \n",
      "roughly equals the number of secondary and tertiary educated customers \n",
      "together. In cluster 0, customers with higher education (secondary or \n",
      "tertiary) significantly outnumber those with primary education.\n"
     ]
    }
   ],
   "source": [
    "res = bank_scaled.groupby('Cluster')['Education'].value_counts(normalize=True)\n",
    "\n",
    "res.unstack().plot.barh(figsize=[9,6],color=['black','lightgray','dimgray'])\n",
    "plt.show()\n",
    "\n",
    "\n",
    "print(\"\"\"cluster 2 is dominated by customers with \n",
    "primary education. In cluster 1, the number of primary educated customers \n",
    "roughly equals the number of secondary and tertiary educated customers \n",
    "together. In cluster 0, customers with higher education (secondary or \n",
    "tertiary) significantly outnumber those with primary education.\"\"\")"
   ]
  },
  {
   "cell_type": "markdown",
   "id": "381a988f",
   "metadata": {},
   "source": [
    "you have successfully used k-prototypes clustering to segment \n",
    "people based on their Income and Education levels. A visual analysis gave insight into \n",
    "the nature of the clusters. Visual analysis is good but brings a lot of subjectivity and \n",
    "isn't always a good idea when dealing with high-dimensional data. It is always good to \n",
    "have quantitative measures for evaluating clusters. "
   ]
  },
  {
   "cell_type": "markdown",
   "id": "3eae4ece",
   "metadata": {},
   "source": [
    "## Evaluating Clustering\n",
    "\n",
    "\n",
    "We have seen various ways of performing clustering so far, each approach having \n",
    "its merits. For the same task, we saw that the approaches provided varying results. \n",
    "Which of them is better? Before we answer that, we need to be able to evaluate how \n",
    "good the results from clustering are. Only then can we compare across segmentation \n",
    "approaches. We need to have, therefore, ways to evaluate the quality of clustering. \n",
    "\n",
    "Another motivation for cluster evaluation methods is the reiteration that clustering is \n",
    "a part of a bigger segmentation exercise, of which clustering is a key part, but far from \n",
    "the whole. Recall from the discussion in the previous chapter that in segmentation \n",
    "exercises, business is often the end consumer of the segments and acts on them. The \n",
    "segments, therefore, need to make sense to the business as well and be actionable. \n",
    "That is why we need to be able to evaluate clusters from a business perspective as \n",
    "well. We have discussed this aspect in the previous chapter and stated the involved \n",
    "considerations. Let us further the discussion on the technical evaluation of clusters.\n",
    "\n",
    "A principled, objective way of evaluating clusters is essential. Subjective methods, \n",
    "such as visual inspection, can always be used, but we acknowledge that they have \n",
    "serious limitations. Quantitative methods for cluster evaluation remove subjectivity \n",
    "and have the added advantage of enabling some level of automation. One such \n",
    "measure is the silhouette score - a powerful objective method that can be used \n",
    "with data that is more difficult to visualize. \n",
    "\n",
    "\n",
    "\n",
    "Note that the silhouette score is a general measure of how well a clustering fits \n",
    "the data, so it can be used to not only compare two different models of different \n",
    "types but also choose hyperparameters, such as the number of clusters or choice of \n",
    "quantile for calculating bandwidth for mean-shift clustering\n",
    "\n",
    "\n",
    "\n",
    "## Silhouette Score\n",
    "\n",
    "A natural way to evaluate clusters is as follows: if the clusters are well-separated, then \n",
    "any point in a cluster should be closer to most of the points in the same cluster than \n",
    "to a point from another cluster.\n",
    "\n",
    "This intuition is quantified through the silhouette score. The silhouette score is a \n",
    "formal measure of how well a clustering fits the data. The higher the score, the \n",
    "better the clusters are. The score is calculated for each data point separately, \n",
    "and the average is taken as a measure of how well the model fits the whole \n",
    "dataset altogether. \n",
    "\n",
    "Let us understand the score better. There are two main components to the score. \n",
    "The first component measures how well the data point fits into the cluster that \n",
    "it is assigned to. This is defined as the average distance between it and all other \n",
    "members of that same cluster. The second component measures how well the data \n",
    "point fits into the next nearest cluster. It is calculated in the same way by measuring \n",
    "the average distance between the data point and all the data points assigned to the \n",
    "next nearest cluster. The difference between these two numbers can be taken as a \n",
    "measure of how well the data point fits into the cluster it is assigned to as opposed \n",
    "to a different cluster. Therefore, when calculated for all data points, it's a measure of \n",
    "how well each data point fits into the particular cluster it's been assigned to. \n",
    "More formally, given data point xi, where axi is the average distance between that \n",
    "data point and all other data points in the same cluster and bxi is the average distance \n",
    "between data point xi and the data points in the next nearest cluster\n",
    "\n",
    "Note that since we divide by the maximum of axi and bxi, we end up with a number \n",
    "between −1 and 1. A negative score means that this data point is actually on average \n",
    "closer to the other cluster, whereas a high positive score means it's a much better \n",
    "fit to the cluster it is assigned to. A value close to 0 would mean that the sample is \n",
    "close to both clusters. When we take the average score across all data points, we will \n",
    "therefore still get a number between −1 and 1, where the closer we are to one the \n",
    "better the fit.\n"
   ]
  },
  {
   "cell_type": "code",
   "execution_count": 27,
   "id": "cfbb4377",
   "metadata": {},
   "outputs": [],
   "source": [
    "cluster_cols = ['Income', 'Spend_Score']\n",
    "X = mall_scaled[cluster_cols]\n",
    "model = KMeans(n_clusters=3, random_state=42)\n",
    "cluster_assignments = model.fit_predict(X)"
   ]
  },
  {
   "cell_type": "code",
   "execution_count": 28,
   "id": "49c50f52",
   "metadata": {},
   "outputs": [
    {
     "name": "stdout",
     "output_type": "stream",
     "text": [
      "0.46658474419000145\n"
     ]
    }
   ],
   "source": [
    "from sklearn.metrics import silhouette_score\n",
    "silhouette_avg = silhouette_score(X, cluster_assignments)\n",
    "print(silhouette_avg)"
   ]
  },
  {
   "cell_type": "code",
   "execution_count": 29,
   "id": "f6243687",
   "metadata": {},
   "outputs": [],
   "source": [
    "silhouette_scores = []\n",
    "for K in range(2, 11):\n",
    "    model = KMeans(n_clusters=K, random_state=42)\n",
    "    cluster_assignments = model.fit_predict(X)\n",
    "    silhouette_avg = silhouette_score(X, cluster_assignments)\n",
    "    silhouette_scores.append(silhouette_avg)"
   ]
  },
  {
   "cell_type": "code",
   "execution_count": 30,
   "id": "fa64049e",
   "metadata": {},
   "outputs": [
    {
     "data": {
      "text/plain": [
       "[0.3146990432802128,\n",
       " 0.46658474419000145,\n",
       " 0.4939069237513199,\n",
       " 0.5546571631111091,\n",
       " 0.5398800926790663,\n",
       " 0.5263454490712252,\n",
       " 0.45584381231187066,\n",
       " 0.45532159949822104,\n",
       " 0.4476280825932578]"
      ]
     },
     "execution_count": 30,
     "metadata": {},
     "output_type": "execute_result"
    }
   ],
   "source": [
    "silhouette_scores"
   ]
  },
  {
   "cell_type": "code",
   "execution_count": 31,
   "id": "1cb83ba3",
   "metadata": {},
   "outputs": [
    {
     "data": {
      "image/png": "[encoded data removed]",
      "text/plain": [
       "<Figure size 504x360 with 1 Axes>"
      ]
     },
     "metadata": {
      "needs_background": "light"
     },
     "output_type": "display_data"
    },
    {
     "name": "stdout",
     "output_type": "stream",
     "text": [
      "you can infer that K=5 has the best silhouette score and is therefore the optimal number of clusters.\n"
     ]
    }
   ],
   "source": [
    "plt.figure(figsize=[7,5])\n",
    "plt.plot(range(2,11), silhouette_scores, color='gray')\n",
    "plt.xlabel(\"Number of clusters: K\")\n",
    "plt.ylabel('Avg. Silhouette Score')\n",
    "plt.show()\n",
    "\n",
    "print(\"\"\"you can infer that K=5 has the best silhouette score and is therefore the optimal number of clusters.\"\"\")\n"
   ]
  },
  {
   "cell_type": "markdown",
   "id": "fc9ab48a",
   "metadata": {},
   "source": [
    "## Test_Train_Split"
   ]
  },
  {
   "cell_type": "code",
   "execution_count": 32,
   "id": "6f0d8f5b",
   "metadata": {},
   "outputs": [],
   "source": [
    "from sklearn.model_selection import train_test_split\n",
    "\n",
    "df_train, df_test=train_test_split(df, train_size=0.75, random_state=42)"
   ]
  },
  {
   "cell_type": "code",
   "execution_count": 33,
   "id": "c45283c9",
   "metadata": {},
   "outputs": [
    {
     "name": "stdout",
     "output_type": "stream",
     "text": [
      "(150, 5)\n",
      "(50, 5)\n"
     ]
    }
   ],
   "source": [
    "print(df_train.shape)\n",
    "print(df_test.shape)"
   ]
  },
  {
   "cell_type": "code",
   "execution_count": 34,
   "id": "7e018b20",
   "metadata": {},
   "outputs": [
    {
     "name": "stdout",
     "output_type": "stream",
     "text": [
      "0.5436475209961419\n"
     ]
    },
    {
     "name": "stderr",
     "output_type": "stream",
     "text": [
      "C:\\Users\\Rushi\\AppData\\Local\\Temp/ipykernel_2344/2170284986.py:2: SettingWithCopyWarning: \n",
      "A value is trying to be set on a copy of a slice from a DataFrame.\n",
      "Try using .loc[row_indexer,col_indexer] = value instead\n",
      "\n",
      "See the caveats in the documentation: https://pandas.pydata.org/pandas-docs/stable/user_guide/indexing.html#returning-a-view-versus-a-copy\n",
      "  df_train['Cluster'] = model.fit_predict(df_train[cluster_cols])\n"
     ]
    }
   ],
   "source": [
    "model = KMeans(n_clusters=6, random_state=42)\n",
    "df_train['Cluster'] = model.fit_predict(df_train[cluster_cols])\n",
    "silhouette_avg = silhouette_score(df_train[cluster_cols], df_train['Cluster'])\n",
    "print(silhouette_avg)"
   ]
  },
  {
   "cell_type": "code",
   "execution_count": 35,
   "id": "8e078e20",
   "metadata": {},
   "outputs": [
    {
     "name": "stdout",
     "output_type": "stream",
     "text": [
      "0.49569011684195546\n"
     ]
    },
    {
     "name": "stderr",
     "output_type": "stream",
     "text": [
      "C:\\Users\\Rushi\\AppData\\Local\\Temp/ipykernel_2344/1252342871.py:1: SettingWithCopyWarning: \n",
      "A value is trying to be set on a copy of a slice from a DataFrame.\n",
      "Try using .loc[row_indexer,col_indexer] = value instead\n",
      "\n",
      "See the caveats in the documentation: https://pandas.pydata.org/pandas-docs/stable/user_guide/indexing.html#returning-a-view-versus-a-copy\n",
      "  df_test['Cluster'] = model.predict(df_test[cluster_cols])\n"
     ]
    }
   ],
   "source": [
    "df_test['Cluster'] = model.predict(df_test[cluster_cols])\n",
    "silhouette_avg = silhouette_score(df_test[cluster_cols], df_test['Cluster'])\n",
    "print(silhouette_avg)"
   ]
  },
  {
   "cell_type": "markdown",
   "id": "69efd588",
   "metadata": {},
   "source": [
    "#### The silhouette score is 0.495, which is a big drop from 0.545 on the train set. To understand the cause for this drop, you'll need to visualize the clusters on the test data"
   ]
  },
  {
   "cell_type": "code",
   "execution_count": 36,
   "id": "99a6ca75",
   "metadata": {},
   "outputs": [
    {
     "data": {
      "image/png": "[encoded data removed]",
      "text/plain": [
       "<Figure size 432x288 with 1 Axes>"
      ]
     },
     "metadata": {
      "needs_background": "light"
     },
     "output_type": "display_data"
    }
   ],
   "source": [
    "for clust in range(df_test.Cluster.nunique()):\n",
    "    temp = df_test[df_test.Cluster == clust]\n",
    "    plt.scatter(temp.Income, temp.Spend_Score, \\\n",
    "                marker=markers[clust], \\\n",
    "                color='gray')\n",
    "plt.xlabel(\"Income\")\n",
    "plt.ylabel(\"Spend_score\")\n",
    "plt.show()"
   ]
  },
  {
   "cell_type": "markdown",
   "id": "6d1f0cb9",
   "metadata": {},
   "source": [
    "What do you gather from the plot? First, the top right cluster doesn't seem to be \n",
    "a good one. There are two points that are far from the dense part of the cluster. \n",
    "This is not a tight cluster. Second, the bottom right cluster contains just two \n",
    "points, both of which are very close to another cluster. This cluster should be \n",
    "merged with the adjacent cluster."
   ]
  },
  {
   "cell_type": "code",
   "execution_count": null,
   "id": "e802345a",
   "metadata": {},
   "outputs": [],
   "source": []
  },
  {
   "cell_type": "code",
   "execution_count": null,
   "id": "06f33b4b",
   "metadata": {},
   "outputs": [],
   "source": []
  }
 ],
 "metadata": {
  "kernelspec": {
   "display_name": "ds-marketing",
   "language": "python",
   "name": "ds-marketing"
  },
  "language_info": {
   "codemirror_mode": {
    "name": "ipython",
    "version": 3
   },
   "file_extension": ".py",
   "mimetype": "text/x-python",
   "name": "python",
   "nbconvert_exporter": "python",
   "pygments_lexer": "ipython3",
   "version": "3.9.5"
  }
 },
 "nbformat": 4,
 "nbformat_minor": 5
}
